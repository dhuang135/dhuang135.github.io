{
 "cells": [
  {
   "cell_type": "code",
   "execution_count": 1,
   "id": "b656e395",
   "metadata": {},
   "outputs": [],
   "source": [
    "import pandas as pd\n",
    "from plotly import express as px\n",
    "from plotly.io import write_html"
   ]
  },
  {
   "cell_type": "code",
   "execution_count": 23,
   "id": "037e69a8",
   "metadata": {},
   "outputs": [],
   "source": [
    "movies = pd.read_csv(\"movies_copy.csv\")"
   ]
  },
  {
   "cell_type": "code",
   "execution_count": 24,
   "id": "e86444b0",
   "metadata": {},
   "outputs": [
    {
     "data": {
      "text/html": [
       "<div>\n",
       "<style scoped>\n",
       "    .dataframe tbody tr th:only-of-type {\n",
       "        vertical-align: middle;\n",
       "    }\n",
       "\n",
       "    .dataframe tbody tr th {\n",
       "        vertical-align: top;\n",
       "    }\n",
       "\n",
       "    .dataframe thead th {\n",
       "        text-align: right;\n",
       "    }\n",
       "</style>\n",
       "<table border=\"1\" class=\"dataframe\">\n",
       "  <thead>\n",
       "    <tr style=\"text-align: right;\">\n",
       "      <th></th>\n",
       "      <th>actor</th>\n",
       "      <th>movie_or_TV_name</th>\n",
       "    </tr>\n",
       "  </thead>\n",
       "  <tbody>\n",
       "    <tr>\n",
       "      <th>0</th>\n",
       "      <td>Amanda</td>\n",
       "      <td>Not a Star</td>\n",
       "    </tr>\n",
       "    <tr>\n",
       "      <th>1</th>\n",
       "      <td>Amanda</td>\n",
       "      <td>Wes Schlagenhauf Is Dying</td>\n",
       "    </tr>\n",
       "    <tr>\n",
       "      <th>2</th>\n",
       "      <td>Amanda</td>\n",
       "      <td>Avatar: The Way of Water</td>\n",
       "    </tr>\n",
       "    <tr>\n",
       "      <th>3</th>\n",
       "      <td>Amanda</td>\n",
       "      <td>Everything Everywhere All at Once</td>\n",
       "    </tr>\n",
       "    <tr>\n",
       "      <th>4</th>\n",
       "      <td>Amanda</td>\n",
       "      <td>She is the Best</td>\n",
       "    </tr>\n",
       "    <tr>\n",
       "      <th>...</th>\n",
       "      <td>...</td>\n",
       "      <td>...</td>\n",
       "    </tr>\n",
       "    <tr>\n",
       "      <th>3372</th>\n",
       "      <td>Anthony Molinari</td>\n",
       "      <td>The Last Deal</td>\n",
       "    </tr>\n",
       "    <tr>\n",
       "      <th>3373</th>\n",
       "      <td>Anthony Molinari</td>\n",
       "      <td>Airship</td>\n",
       "    </tr>\n",
       "    <tr>\n",
       "      <th>3374</th>\n",
       "      <td>Anthony Molinari</td>\n",
       "      <td>Black Gloves</td>\n",
       "    </tr>\n",
       "    <tr>\n",
       "      <th>3375</th>\n",
       "      <td>Anthony Molinari</td>\n",
       "      <td>Tranquility</td>\n",
       "    </tr>\n",
       "    <tr>\n",
       "      <th>3376</th>\n",
       "      <td>Anthony Molinari</td>\n",
       "      <td>Bank on us 2</td>\n",
       "    </tr>\n",
       "  </tbody>\n",
       "</table>\n",
       "<p>3377 rows × 2 columns</p>\n",
       "</div>"
      ],
      "text/plain": [
       "                 actor                   movie_or_TV_name\n",
       "0               Amanda                         Not a Star\n",
       "1               Amanda          Wes Schlagenhauf Is Dying\n",
       "2               Amanda           Avatar: The Way of Water\n",
       "3               Amanda  Everything Everywhere All at Once\n",
       "4               Amanda                    She is the Best\n",
       "...                ...                                ...\n",
       "3372  Anthony Molinari                      The Last Deal\n",
       "3373  Anthony Molinari                            Airship\n",
       "3374  Anthony Molinari                       Black Gloves\n",
       "3375  Anthony Molinari                        Tranquility\n",
       "3376  Anthony Molinari                       Bank on us 2\n",
       "\n",
       "[3377 rows x 2 columns]"
      ]
     },
     "execution_count": 24,
     "metadata": {},
     "output_type": "execute_result"
    }
   ],
   "source": [
    "movies"
   ]
  },
  {
   "cell_type": "code",
   "execution_count": 30,
   "id": "a10b5938",
   "metadata": {},
   "outputs": [],
   "source": [
    "grouped_movies = movies.groupby([\"movie_or_TV_name\"])[\"movie_or_TV_name\"].count()"
   ]
  },
  {
   "cell_type": "code",
   "execution_count": 38,
   "id": "9214b9a7",
   "metadata": {},
   "outputs": [],
   "source": [
    "grouped_movies = grouped_movies.sort_values(ascending = False)"
   ]
  },
  {
   "cell_type": "code",
   "execution_count": 39,
   "id": "4a322b4e",
   "metadata": {},
   "outputs": [],
   "source": [
    "#grouped_movies.to_csv(\"grouped_movies.csv\")"
   ]
  },
  {
   "cell_type": "code",
   "execution_count": 42,
   "id": "59680f78",
   "metadata": {},
   "outputs": [],
   "source": [
    "movies_gdata = grouped_movies[0:17]"
   ]
  },
  {
   "cell_type": "code",
   "execution_count": 54,
   "id": "80a910af",
   "metadata": {},
   "outputs": [],
   "source": [
    "movies_gdata = pd.DataFrame(movies_gdata)"
   ]
  },
  {
   "cell_type": "code",
   "execution_count": 58,
   "id": "c8a29509",
   "metadata": {},
   "outputs": [
    {
     "data": {
      "text/plain": [
       "Index(['movie_or_TV_name'], dtype='object')"
      ]
     },
     "execution_count": 58,
     "metadata": {},
     "output_type": "execute_result"
    }
   ],
   "source": [
    "movies_gdata.rename"
   ]
  },
  {
   "cell_type": "code",
   "execution_count": 50,
   "id": "02f553e9",
   "metadata": {},
   "outputs": [
    {
     "ename": "NameError",
     "evalue": "name 'movie_or_TV_name' is not defined",
     "output_type": "error",
     "traceback": [
      "\u001b[0;31m---------------------------------------------------------------------------\u001b[0m",
      "\u001b[0;31mNameError\u001b[0m                                 Traceback (most recent call last)",
      "Input \u001b[0;32mIn [50]\u001b[0m, in \u001b[0;36m<cell line: 1>\u001b[0;34m()\u001b[0m\n\u001b[0;32m----> 1\u001b[0m px\u001b[38;5;241m.\u001b[39mhistogram(movies_gdata, x \u001b[38;5;241m=\u001b[39m \u001b[43mmovie_or_TV_name\u001b[49m)\n",
      "\u001b[0;31mNameError\u001b[0m: name 'movie_or_TV_name' is not defined"
     ]
    }
   ],
   "source": [
    "px.histogram(movies_gdata, me)"
   ]
  }
 ],
 "metadata": {
  "kernelspec": {
   "display_name": "Python 3 (ipykernel)",
   "language": "python",
   "name": "python3"
  },
  "language_info": {
   "codemirror_mode": {
    "name": "ipython",
    "version": 3
   },
   "file_extension": ".py",
   "mimetype": "text/x-python",
   "name": "python",
   "nbconvert_exporter": "python",
   "pygments_lexer": "ipython3",
   "version": "3.9.11"
  }
 },
 "nbformat": 4,
 "nbformat_minor": 5
}
